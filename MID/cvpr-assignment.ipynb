{
  "nbformat": 4,
  "nbformat_minor": 0,
  "metadata": {
    "colab": {
      "provenance": []
    },
    "kernelspec": {
      "name": "python3",
      "display_name": "Python 3"
    },
    "language_info": {
      "name": "python"
    }
  },
  "cells": [
    {
      "cell_type": "code",
      "execution_count": 7,
      "metadata": {
        "id": "M3oOU6tA6hLi",
        "colab": {
          "base_uri": "https://localhost:8080/"
        },
        "outputId": "74ff919d-0f34-4d53-b8fb-2e9551862058"
      },
      "outputs": [
        {
          "output_type": "stream",
          "name": "stdout",
          "text": [
            "['airplane', 'automobile', 'ship', 'truck', 'bird', 'cat', 'deer', 'frog', 'horse', 'dog']\n"
          ]
        },
        {
          "output_type": "stream",
          "name": "stderr",
          "text": [
            "0it [00:00, ?it/s]\n",
            "0it [00:00, ?it/s]\n",
            "0it [00:00, ?it/s]\n",
            "0it [00:00, ?it/s]\n",
            "0it [00:00, ?it/s]\n",
            "0it [00:00, ?it/s]\n",
            "0it [00:00, ?it/s]\n",
            "0it [00:00, ?it/s]\n",
            "0it [00:00, ?it/s]\n",
            "0it [00:00, ?it/s]"
          ]
        },
        {
          "output_type": "stream",
          "name": "stdout",
          "text": [
            "0\n"
          ]
        },
        {
          "output_type": "stream",
          "name": "stderr",
          "text": [
            "\n"
          ]
        }
      ],
      "source": [
        "import numpy as np\n",
        "\n",
        "import pandas as pd\n",
        "\n",
        "import matplotlib.pyplot as plt\n",
        "\n",
        "import cv2 as cv\n",
        "\n",
        "import os\n",
        "\n",
        "from tqdm import tqdm\n",
        "\n",
        "import random\n",
        "\n",
        "train_directory=r\"/content/drive/MyDrive/CIFAR-10-images-master/train\"\n",
        "\n",
        "class_names=[]\n",
        "\n",
        "for i in os.listdir(train_directory):\n",
        "\n",
        "    class_names.append(i)\n",
        "\n",
        "print(class_names)\n",
        "\n",
        "['airplane', 'automobile', 'bird', 'cat', 'deer', 'dog', 'frog', 'horse', 'ship', 'truck']\n",
        "\n",
        "train_data=[]\n",
        "\n",
        "for i in class_names:\n",
        "\n",
        "    path=os.path.join(train_directory,i)\n",
        "\n",
        "    classes=class_names.index(i)\n",
        "\n",
        "    for img in tqdm(os.listdir(path)):\n",
        "\n",
        "        img_array=cv.imread(os.path.join(path,img))\n",
        "\n",
        "        train_data.append([img_array,classes])\n",
        "\n",
        "print(len(train_data))"
      ]
    }
  ]
}